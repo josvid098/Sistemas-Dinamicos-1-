{
 "cells": [
  {
   "cell_type": "markdown",
   "metadata": {},
   "source": [
    "# Sistemas Dinámicos - Tarea 5\n",
    "> Estudiante: Jose David Cifuentes S.\n",
    "\n",
    "> Docente: Gerardo de J. Becerra B.  \n",
    "> Facultad de Ingeniería, Pontificia Universidad Javeriana.  \n",
    "> Bogotá, Colombia."
   ]
  },
  {
   "cell_type": "markdown",
   "metadata": {},
   "source": [
    "## 1. Sistema de tanques no interactuantes:\n",
    "En la siguiente [figura](#tanquesnointer) se muestra un sistema de tanques no interactuantes."
   ]
  },
  {
   "cell_type": "markdown",
   "metadata": {},
   "source": [
    "<a name=\"tanquesnointer\"></a>![Tanques no interactuantes](2tanks_2valves_noninter.png)"
   ]
  },
  {
   "cell_type": "markdown",
   "metadata": {},
   "source": [
    "1. Obtenga el modelo matemático del sistema, considerando como variables de estado $p_1$ y $p_2$.\n",
    ">Teniendo en cuenta la ecuación que describe la variable de estado de la prresion en el tanque, \n",
    "\\begin{equation}\n",
    "    \\dot{p} = \\frac{1}{C(h)} [w_{in}(t) - w_{out}(t)] \n",
    "\\end{equation}\n",
    ">Se tiene que las dos ecuaciones de variables de estado del sistema son:\n",
    "\\begin{equation}\n",
    "    \\dot{p_1} = \\frac{1}{C_1(h)} [w_{in}(t) - R_1\\sqrt {p_1 - p_a}] \n",
    "\\end{equation}\n",
    "\\begin{equation}\n",
    "    \\dot{p_2} = \\frac{1}{C_2(h)} [R_1\\sqrt {p_1 - p_a} - R_2\\sqrt {p_2 - p_a}] \n",
    "\\end{equation}\n",
    "\n",
    "2. Obtenga el modelo matemático del sistema, considerando como variables de estado $h_1$ y $h_2$.\n",
    ">Teniendo en cuenta la ecuación que describe la variable de estado de la presión en el tanque, \n",
    "\\begin{equation}\n",
    "    \\dot{h} = \\frac{1}{A(h)} [w_{in}(t) - w_{out}(t)]\n",
    "\\end{equation}\n",
    ">Y que,\n",
    "\\begin{equation}\n",
    "    p = \\rho g h + p_a\n",
    "\\end{equation}\n",
    ">Se tiene que las dos ecuaciones de variables de estado del sistema tal que las variables sean h1 y h2 son:\n",
    "\n",
    "\\begin{equation}\n",
    "    \\dot{h_1} = \\frac{1}{A_1(h)} [w_{in}(t) - R_1\\sqrt{\\rho g h_1}]\n",
    "\\end{equation}\n",
    "\n",
    "\\begin{equation}\n",
    "    \\dot{h_2} = \\frac{1}{A_2(h)} [R_1\\sqrt{\\rho g h_1}- R_2\\sqrt{\\rho g h_2}]\n",
    "\\end{equation}\n",
    "\n",
    "3. Obtenga la matriz de cambio de base que relaciona los dos modelos.\n",
    "\\begin{equation}\n",
    "\\begin{bmatrix}\n",
    "    p_1(t)\\\\ p_2(t)\\\\\n",
    "\\end{bmatrix} = \n",
    "\\begin{bmatrix}\n",
    "    \\rho g&0\\\\\n",
    "    0 &\\rho g\\\\\n",
    "\\end{bmatrix}\n",
    "\\begin{bmatrix}\n",
    "    h_1(t) \\\\ h_2(t)\\\\ \n",
    "\\end{bmatrix} +\n",
    "\\begin{bmatrix}\n",
    "    1\\\\1\\\\\n",
    "\\end{bmatrix} \n",
    "p_a\n",
    "\\end{equation}\n",
    "\n"
   ]
  },
  {
   "cell_type": "markdown",
   "metadata": {},
   "source": [
    "## 2. Sistema de tanques interactuantes y bomba hidráulica:\n",
    "En la siguiente [figura](#tanquesbomba) se muestra un sistema de tanques interactuantes cuyo suministro está dado por una bomba hidráulica. Los tanques se encuentran interconectados por la válvula de característica $k_1$ y el flujo de salida se controla usando la válvula de característica $k_2$."
   ]
  },
  {
   "cell_type": "markdown",
   "metadata": {},
   "source": [
    "<a name=\"tanquesbomba\"></a>![title](pump_2tanks_2valves.png)"
   ]
  },
  {
   "cell_type": "markdown",
   "metadata": {},
   "source": [
    "- Formule el modelo matemático, asumiendo que la característica de la bomba corresponde a una función $w_i = a_2 \\Delta p^2 + a_1 \\Delta p + a_0$.\n",
    "\n",
    "\\begin{equation}\n",
    "    \\dot{p_1} = \\frac{1}{C_1(h)} [(a_2 \\Delta p^2 + a_1 \\Delta p + a_0) - k_1\\sqrt {p_1 - p_2}] \n",
    "\\end{equation}\n",
    "\\begin{equation}\n",
    "    \\dot{p_2} = \\frac{1}{C_2(h)} [k_1\\sqrt {p_1 - p_2} - k_2\\sqrt {p_2 - p_a}] \n",
    "\\end{equation}\n",
    "\n",
    "- Obtenga el punto de operación, asumiendo los siguientes valores para los parámetros: $A_1=2$, $A_2=3$, $\\rho=1000$, $k_1 = 3 \\times 10^{-5}$, $k_2 = 5 \\times 10^{-5}$, $p_a = 1.013 \\times 10^{5}$, $g = 9.807$, $w_p = -7.5 \\times 10^{-9} \\Delta p^2 + 5 \\times 10^{-7} \\Delta p + 1 \\times 10^{-3}$.\n",
    "\n",
    "\n",
    "- Simule la respuesta del sistema, usando Matlab.\n"
   ]
  },
  {
   "cell_type": "markdown",
   "metadata": {},
   "source": [
    "## 3. Tanques lineal/no lineal interactuantes:\n",
    "La siguiente [figura](#tanquesinter) presenta un sistema formado por un tanque no lineal (TK1) y uno lineal (TK2), interconectados por una válvula (VA1) caracterizada por un coeficiente de flujo $C_v$. El líquido almacenado es agua."
   ]
  },
  {
   "cell_type": "markdown",
   "metadata": {},
   "source": [
    "<a name=\"tanquesinter\"></a>![tanquesinteractuantes](tanques_inter.svg)"
   ]
  },
  {
   "cell_type": "markdown",
   "metadata": {},
   "source": [
    "1. Obtenga el área transversal $A_1$ del líquido en el tanque no lineal TK1 como función de su nivel $h_1$.\n",
    ">Se sabe que el área transversal del tanque es descrita por un  cuadrado,uno de los lados depende de una función que varia en función de $h_1$ y el otro lado siempre es L. \n",
    "\\begin{equation} \n",
    "    A_1(h_1) = L\\sqrt{2R_1h_1 - h_1^2}\n",
    "\\end{equation}\n",
    "\n",
    "2. Escriba la ecuación que describe el flujo $q_v$ a través de la válvula VA1 en términos de su coeficiente de flujo $C_v$, de los niveles de los tanques $h_1$ y $h_2$, la densidad del fluido $\\rho$, la gravedad específica del agua $G_f$ y la constante gravitacional $g$.\n",
    ">Teniendo en cuenta que la ecuación general del flujo a través de la válvula es:\n",
    "\\begin{equation}\n",
    "    w = k \\sqrt{\\Delta p}\n",
    "\\end{equation}\n",
    ">La ecuación final quedaría:\n",
    "\\begin{equation}\n",
    "    q_v = C_v \\sqrt{\\frac{\\rho g(h_1 - h_2)}{G_f}}\n",
    "\\end{equation}\n",
    "3. Escriba el flujo de salida $q_o$ del tanque TK2 como función del área del orificio de salida $A_o$, de su nivel de líquido $h_2$ y de la geometría del tanque.\n",
    "\\begin{equation}\n",
    "    q_o = \\frac{A_0}{\\sqrt{1-(\\frac{A_0}{A_2})^2}}\\sqrt{2gh_2} \n",
    "\\end{equation} \n",
    "\\begin{equation}\n",
    " A_2 = R_2^2 \\pi \n",
    " \\end{equation} \n",
    " \n",
    "4. Escriba las ecuaciones de estado que describen la dinámica del sistema. Considere como variables de estado los niveles $h_2$ y $h_2$ de los tanques.\n",
    "\\begin{equation}\n",
    "    \\dot{h_1} = \\frac{1}{A_1(h_1)} [q_{in}(t) - C_v \\sqrt{\\frac{\\rho g(h_1 - h_2)}{G_f}}]\n",
    "\\end{equation}\n",
    "\\begin{equation}\n",
    "    \\dot{h_2} = \\frac{1}{A_2} [C_v \\sqrt{\\frac{\\rho g(h_1 - h_2)}{G_f}} - \\frac{A_0}{\\sqrt{1-(\\frac{A_0}{A_2})^2}}\\sqrt{2gh_2} ]\n",
    "\\end{equation}\n",
    "\n",
    "5. Usando los valores mostrados en la [tabla](#paramstanquesinter), calcule el flujo $q_i$ necesario para estabilizar el tanque TK1 en un valor constante $\\bar{h}_1 = 0.5$ m. Obtenga el valor de $\\bar{h}_2$ en éste caso.\n",
    ">Para poder hallar los valores de $\\bar{h}_2$ y $q_i$ es necesario hallar el punto de equilibrio para el valor de $\\bar{h}_1$ establecido:\n",
    "\\begin{equation}\n",
    "    0 = \\frac{1}{A_1(h_1)} [q_{in}(t) - C_v \\sqrt{\\frac{\\rho g(\\bar{h_1} - \\bar{h_2})}{G_f}}]\n",
    "\\end{equation}\n",
    "\\begin{equation}\n",
    "    0 = \\frac{1}{A_2} [C_v \\sqrt{\\frac{\\rho g(\\bar{h_1} - \\bar{h_2})}{G_f}} - \\frac{A_0}{\\sqrt{1-(\\frac{A_0}{A_2})^2}}\\sqrt{2g\\bar{h_2}} ]\n",
    "\\end{equation}\n",
    ">Reemplazando cada parámetro por los valores de la tabla queda:\n",
    "\\begin{equation}\n",
    "    0 = \\frac{1}{0,4141} [q_{in}(t) - (2,95E-6) \\sqrt{\\frac{(1000)(9,81)(0,5 - \\bar{h_2})}{1}}]\n",
    "\\end{equation}\n",
    "\\begin{equation}\n",
    "    0 = \\frac{1}{A_2} [(2,95E-6) \\sqrt{\\frac{(1000)(9,81)(0,5 - \\bar{h_2})}{1}} - \\frac{5,14E-5}{\\sqrt{1-(\\frac{5,14E-5}{0,2827})^2}}\\sqrt{2(9,81)\\bar{h_2}} ]\n",
    "\\end{equation}\n",
    ">Se despejan las dos variables de interes y te siene que:\n",
    "\\begin{equation}\n",
    "\\bar{h_2}=0,4654\n",
    "\\end{equation}\n",
    "\\begin{equation}\n",
    "q_i= 5,43E-5\n",
    "\\end{equation}\n",
    "\n",
    "6. Simule la respuesta del sistema para $q_i = \\bar{q}_i$, $h_1(0) = 0$, $h_2(0) = 0$. Verifique que que el sistema se estabilice en los valores calculados en el punto anterior."
   ]
  },
  {
   "cell_type": "markdown",
   "metadata": {},
   "source": [
    "<a name=\"paramstanquesinter\"></a>\n",
    "\n",
    "Parámetro | Valor   | Unidades\n",
    " :------: |  -----: | :------:\n",
    "$\\rho$    | 1000    | kg/m^3\n",
    "$g$       | 9.81    | m/s^2\n",
    "$G_f$     | 1.00    | \n",
    "$C_v$     | 2.95E-6 | m^3/s\n",
    "$R_1$     | 0.6     | m\n",
    "$L$       | 0.7     | m\n",
    "$R_2$     | 0.3     | m\n",
    "$A_o$     | 5.14E-5 | m^2"
   ]
  },
  {
   "cell_type": "markdown",
   "metadata": {},
   "source": [
    "## 4. Diseño térmico de un transistor de potencia:\n",
    "Los dispositivos semiconductores de potencia requieren consideraciones especiales respecto a sus propiedades térmicas, para garantizar su operación dentro de los límites máximos permitidos de temperatura. Para ésto se estudian las propiedades estáticas y dinámicas de transferencia de calor. La primera [figura](#systherm1) muestra el modelo térmico básico, donde $P$ representa la potencia térmica disipada por el transistor, $\\theta_j$ la temperatura en la juntura del semiconductor, $\\theta_c$ la temperatura en el empaque del transistor, $\\theta_a$ la temperatura ambiente, $R_{jc}$ la resistencia térmica juntura-empaque y $R_{ca}$ la resistencia térmica empaque-ambiente.\n",
    "- Calcule la potencia máxima que puede disipar el transistor para temperaturas ambiente de $25^\\circ$C y $50^\\circ$C. Asuma que la temperatura máxima permitida para la juntura es $200^\\circ$C, $R_{jc}=1.17^\\circ$C/W, $R_{ca}=42.53^\\circ$C/W.\n",
    "\n",
    ">Para hallar la potencia máxima que puede disipar el transistor hay que hallar P en términos de las temperaturas y de las resistencias dadas planteando el circuito por nodos como si fueran corrientes y voltajes, a lo que resultan 2 ecuaciones con dos incógnitas P y \\theta_c.\n",
    "\n",
    "\\begin{equation}\n",
    "P= \\frac{\\theta_j - \\theta_c}{R_{jc}}\n",
    "\\end{equation}\n",
    "\\begin{equation}\n",
    "\\frac{\\theta_j - \\theta_c}{R_{jc}} =  \\frac{\\theta_c - \\theta_a}{R_{ca}}\n",
    "\\end{equation}\n",
    "\n",
    ">De este modo se despeja $\\theta_c$ en terminos de las demás parámetros que ya se conocen, y queda la siguiente ecuación:\n",
    "\n",
    "\\begin{equation}\n",
    "P= \\frac{\\theta_j}{R_{jc}} - \\frac{1}{R_{jc}}(\\frac{\\theta_j R_{ca} - \\theta_a R_{jc} }{R_{jc}+R_{ca}})\n",
    "\\end{equation}\n",
    "\n",
    ">Para $\\theta_a$ igual a $25^\\circ$C:\n",
    "\\begin{equation}\n",
    "P= 4 W\n",
    "\\end{equation}\n",
    "\n",
    ">Para $\\theta_a$ igual a $50^\\circ$C:\n",
    "\\begin{equation}\n",
    "P= 3,432 W\n",
    "\\end{equation}\n",
    "\n",
    "- Calcule las temperaturas $\\theta_j$ y $\\theta_c$ si el transistor disipa $2$W a una temperatura ambiente de $35^\\circ$C.\n",
    "\n",
    "> De la deducción de P anterior se pueden establecer dos ecuaciones que describen a $\\theta_j$ y $\\theta_c$:\n",
    "\n",
    "\\begin{equation}\n",
    "\\theta_c= \\frac{\\theta_j R_{ca} - \\theta_a R_{jc} }{R_{jc}+R_{ca}} = 120,06 ^\\circ C\n",
    "\\end{equation}\n",
    "\n",
    "\\begin{equation}\n",
    "\\theta_j= P R_{jc} + \\theta_c =  122,4 ^\\circ C\n",
    "\\end{equation}\n",
    "\n"
   ]
  },
  {
   "cell_type": "markdown",
   "metadata": {},
   "source": [
    "<a name=\"systherm1\"></a>![systerm1](ThermalSys1.svg)"
   ]
  },
  {
   "cell_type": "markdown",
   "metadata": {},
   "source": [
    "Asuma que cuando se instala un disipador, la resistencia térmica $R_{ca}$ se duplica porque la mitad del área que estaba en contacto con el aire se halla ahora en contacto con el disipador. En éste caso el diagrama del sistema térmico obtenido se representa en la segunda [figura](#systherm2), donde $\\theta_s$ corresponde a la temperatura del disipador, $R_{cs}$ la resistencia térmica empaque-disipador y $R_{sa}$ la resistencia térmica disipador-ambiente. $R_{cs}$ se encuentra asociada al aislante eléctrico + grasa utilizados para instalar un disipador.\n",
    "- Determine la resistencia térmica máxima requerida si se desea mantener la temperatura de la juntura al menos $60^\\circ$C por debajo de su temperatura máxima permitida, con el transistor disipando $20$W. Asuma que la temperatura ambiente varía entre $15^\\circ$C y $40^\\circ$C, $R_{cs}=0.36^\\circ$C/W.\n",
    "\n",
    ">Se toma la temperatura ambiente como la mínima ya que se necesita la resistencia térmica máxima, cómo el circuito cambió al agregar el disipador, ahora quedan tres ecuaciones con tres incognitas: $R_{sa}$,  $\\theta_s$, $\\theta_c$.\n",
    "\n",
    "\\begin{equation}\n",
    "P= \\frac{\\theta_j - \\theta_c}{R_{jc}}\n",
    "\\end{equation}\n",
    "\n",
    "\\begin{equation}\n",
    "P = \\frac{\\theta_c - \\theta_s}{R_{cs}} +  \\frac{\\theta_c - \\theta_a}{R_{ca}}\n",
    "\\end{equation}\n",
    "\n",
    "\\begin{equation}\n",
    "\\frac{\\theta_c - \\theta_s}{R_{cs}} =  \\frac{\\theta_s - \\theta_a}{R_{sa}}\n",
    "\\end{equation}\n",
    "\n",
    "> Y despejando cada ecuación se obtienen los valores de estas incognitas hasta que al final tenemos $R_{sa}$:\n",
    "\n",
    "\\begin{equation}\n",
    "\\theta_c = (\\theta_j-PR_{jc}) =116,6^\\circ C\n",
    "\\end{equation}\n",
    "\n",
    "\\begin{equation}\n",
    " \\theta_s = R_{cs}(\\frac{\\theta_c - \\theta_a}{R_{ca}} +  \\frac{\\theta_c}{R_{cs}}-P) = 110,26^\\circ C\n",
    "\\end{equation}\n",
    "\n",
    "\\begin{equation}\n",
    "R_{sa} = \\frac{\\theta_s - \\theta_a} {\\theta_c - \\theta_s} R_{cs} = 5,41^\\circ C/W\n",
    "\\end{equation}\n",
    "\n",
    "- Asumiendo que se ha seleccionado un disipador con $R_{sa}=1.9^\\circ$C/W, determine $\\theta_j$, $\\theta_c$, $\\theta_s$ para una temperatura ambiente de $40^\\circ$C y disipación de $20$W.\n",
    "\n",
    ">Nuevamente se tiene un sistema de tres ecuaciones (las mismas que ya se habian planteado) y tres incognitas a lo que el resultado da:\n",
    "\n",
    "\\begin{equation}\n",
    "\\theta_j = 106,32^\\circ C\n",
    "\\end{equation}\n",
    "\\begin{equation}\n",
    "\\theta_c = 82,91^\\circ C\n",
    "\\end{equation}\n",
    "\\begin{equation}\n",
    "\\theta_s = 76,08^\\circ C\n",
    "\\end{equation}"
   ]
  },
  {
   "cell_type": "markdown",
   "metadata": {},
   "source": [
    "<a name=\"systherm2\"></a>![systherm2](ThermalSys2.svg)"
   ]
  },
  {
   "cell_type": "markdown",
   "metadata": {},
   "source": [
    "Ahora se desea disipar $80$W utilizando un conjunto de transistores de potencia $Q_1$, $Q_2$, $\\dots$, $Q_n$, instalados sobre el mismo disipador como se muestra en la siguiente [figura](#systherm3) (no se consideran en este caso las resistencias $R_{ca}$). Se requiere mantener sus temperaturas $\\theta_j$ $30^\\circ$C por debajo del valor máximo permitido. Se sabe que $\\theta_{jmax} = 150^\\circ$C, $R_{jc} = 1.67^\\circ$C/W, $R_{cs} = 1.6^\\circ$C/W. \n",
    "- Asumiendo que la temperatura $\\theta_s$ máxima deseada es $60^\\circ$C y que la temperatura ambiente puede variar entre $20^\\circ$C y $30^\\circ$C, calcule la máxima resistencia térmica $R_{ca}$ requerida para el disipador.\n",
    "\n",
    "\n",
    "- Calcule el número de transistores requeridos para disipar la potencia disponible."
   ]
  },
  {
   "cell_type": "markdown",
   "metadata": {},
   "source": [
    "<a name=\"systherm3\"></a>![systherm3](ThermalSys3.svg)"
   ]
  },
  {
   "cell_type": "markdown",
   "metadata": {},
   "source": [
    "## 5. Modelo de conducción de calor de una barra metálica:\n",
    "En la siguiente [figura](#conduc_bar) se muestra una barra metálica que es sometida a calentamiento en un extremo con una temperatura conocida $\\theta_i(t)$. La barra se encuentra totalmente aislada y únicamente se considera el fenómeno de transferencia de calor por conducción."
   ]
  },
  {
   "cell_type": "markdown",
   "metadata": {},
   "source": [
    "<a name=\"conduc_bar\"></a>![heated bar](heatedbar.svg)"
   ]
  },
  {
   "cell_type": "markdown",
   "metadata": {},
   "source": [
    "Para obtener un modelo de la conducción del calor a través de la barra, se define una capacitancia térmica $C$ que representa el almacenamiento de calor en el cuerpo de la barra, y una resistencia térmica $R$ que representa el fenómeno de conducción. Asumiendo que la temperatura $\\theta_1(t)$ a lo largo de toda la barra es uniforme, se obtiene el diagrama mostrado en [ésta figura](#conduc_bar1)."
   ]
  },
  {
   "cell_type": "markdown",
   "metadata": {},
   "source": [
    "<a name=\"conduc_bar1\"></a>![heated bar](heatedbar_approx1.svg)"
   ]
  },
  {
   "cell_type": "markdown",
   "metadata": {},
   "source": [
    "Sin embargo, dicha aproximación no es muy útil para para conocer la manera como se conduce el calor a lo largo de la barra. Por ésta razón se pueden realizar aproximaciones usando [2 elementos](#conduc_bar2), [3 elementos](#conduc_bar3) y así sucesivamente. En [ésta figura](#conduc_barn) se muestra el caso general de una partición en $n$ elementos."
   ]
  },
  {
   "cell_type": "markdown",
   "metadata": {},
   "source": [
    "<a name=\"conduc_bar2\"></a>![heated bar](heatedbar_approx2.svg)"
   ]
  },
  {
   "cell_type": "markdown",
   "metadata": {},
   "source": [
    "<a name=\"conduc_bar3\"></a>![heated bar](heatedbar_approx3.svg)"
   ]
  },
  {
   "cell_type": "markdown",
   "metadata": {},
   "source": [
    "<a name=\"conduc_barn\"></a>![heated bar](heatedbar_approxn.svg)"
   ]
  },
  {
   "cell_type": "markdown",
   "metadata": {},
   "source": [
    "1. Plantee las ecuaciones que describen la dinámica del sistema para las aproximaciones de 1, 2 y 3 elementos. Obtenga el punto de equilibrio en cada caso.\n",
    ">Sistema para las aproximaciones de 1 elemento:\n",
    "\\begin{equation}\n",
    "    \\dot{\\theta}_1 = \\frac{1}{CR} (\\theta_i - \\theta_1)\n",
    "\\end{equation}\n",
    "\n",
    ">El punto de equilibrio sería:\n",
    "\n",
    "\\begin{equation}\n",
    "    \\bar{\\theta_1} = \\bar{\\theta_i} \n",
    "\\end{equation}\n",
    "\n",
    ">Sistema para las aproximaciones de 2 elementos:\n",
    "\\begin{equation}\n",
    "    \\dot{\\theta}_1 = \\frac{4}{CR} [(\\theta_i - 2\\theta_1 + \\theta_2)] \n",
    "\\end{equation}\n",
    "\n",
    "\\begin{equation}\n",
    "    \\dot{\\theta}_2 = \\frac{4}{RC} (\\theta_1 - \\theta_2)\n",
    "\\end{equation}\n",
    "\n",
    ">El punto de equilibrio sería:\n",
    "\n",
    "\\begin{equation}\n",
    "    \\bar{\\theta_1} = \\bar{\\theta_i} \n",
    "\\end{equation}\n",
    "\n",
    "\\begin{equation}\n",
    "    \\bar{\\theta_2} = \\bar{\\theta_i} \n",
    "\\end{equation}\n",
    "\n",
    ">Sistema para las aproximaciones de 2 elementos:\n",
    "\\begin{equation}\n",
    "    \\dot{\\theta}_1 = \\frac{9}{CR} [(\\theta_i - 2\\theta_1+ \\theta_2)] \n",
    "\\end{equation}\n",
    "\n",
    "\\begin{equation}\n",
    "    \\dot{\\theta}_2 = \\frac{9}{CR} [(\\theta_1 - 2\\theta_2  + \\theta_3)] \n",
    "\\end{equation}\n",
    "\n",
    "\\begin{equation}\n",
    "    \\dot{\\theta}_3 = \\frac{9}{RC} (\\theta_2 - \\theta_3)\n",
    "\\end{equation}\n",
    "\n",
    ">El punto de equilibrio sería:\n",
    "\n",
    "\\begin{equation}\n",
    "    \\bar{\\theta_1} = \\bar{\\theta_i} \n",
    "\\end{equation}\n",
    "\n",
    "\\begin{equation}\n",
    "    \\bar{\\theta_2} = \\bar{\\theta_i} \n",
    "\\end{equation}\n",
    "\n",
    "\\begin{equation}\n",
    "    \\bar{\\theta_3} = \\bar{\\theta_i} \n",
    "\\end{equation}\n",
    "\n",
    "2. Generalice las ecuaciones para el caso de la aproximación con $n$ elementos. ¿Cuál es el punto de equilibrio en éste caso?\n",
    ">De forma general, las ecuaciones dinámicas que describen el sistema con n elementos son:\n",
    "\n",
    "\\begin{equation}\n",
    "    \\dot{\\theta}_1 = \\frac{n^2}{CR} [(\\theta_i - 2\\theta_1+ \\theta_2)] \n",
    "\\end{equation}\n",
    "\\begin{equation}\n",
    "    \\dot{\\theta}_2 = \\frac{n^2}{CR} [(\\theta_1 - 2\\theta_2  + \\theta_3)] \n",
    "\\end{equation}\n",
    "\\begin{equation}\n",
    "    \\dot{\\theta}_3 = \\frac{n^2}{RC} [(\\theta_2 - 2\\theta_3  + \\theta_4)] \n",
    "\\end{equation}\n",
    "\\begin{equation}\n",
    "\\vdots\n",
    "\\end{equation}\n",
    "\\begin{equation}\n",
    "    \\dot{\\theta}n = \\frac{n^2}{RC} (\\theta(n-1) - \\theta_n)\n",
    "\\end{equation}\n",
    "\n",
    ">Punto de equilibrio:\n",
    "\n",
    "\\begin{equation}\n",
    "    \\bar{\\theta_1} = \\bar{\\theta_i} \n",
    "\\end{equation}\n",
    "\\begin{equation}\n",
    "    \\bar{\\theta_2} = \\bar{\\theta_i} \n",
    "\\end{equation}\n",
    "\\begin{equation}\n",
    "    \\bar{\\theta_3} = \\bar{\\theta_i} \n",
    "\\end{equation}\n",
    "\\begin{equation}\n",
    "\\vdots\n",
    "\\end{equation}\n",
    "\\begin{equation}\n",
    "    \\bar{\\theta_n} = \\bar{\\theta_i} \n",
    "\\end{equation}\n",
    "\n"
   ]
  },
  {
   "cell_type": "markdown",
   "metadata": {},
   "source": [
    "## References\n",
    "- Close, C., Frederick, D., Newell, J. [Modeling and Analysis of Dynamic Systems](https://books.google.com.co/books?isbn=0471452963). 3rd Edition. Jonh Wiley & Sons, 2002.\n",
    "- Albarracin, J.A. [Ingeniería Detallada, Modelado y Simulación de un Sistema de Tanques Interactuantes No Lineales](https://repository.javeriana.edu.co/bitstream/handle/10554/7032/tesis478.pdf). Pontificia Universidad Javeriana, Facultad de Ingeniería, Bogotá D.C., 2010.\n",
    "- Ramirez, C.F. [Control de un Sistema de Tanques Interactuantes No Lineales Desde el Enfoque de Sistemas Dinámicos Híbridos](https://repository.javeriana.edu.co/bitstream/handle/10554/12729/RamirezAcostaChristianFelipe2012.pdf). Pontificia Universidad Javeriana, Facultad de Ingeniería, Bogotá D.C., 2012."
   ]
  },
  {
   "cell_type": "code",
   "execution_count": null,
   "metadata": {},
   "outputs": [],
   "source": []
  }
 ],
 "metadata": {
  "kernelspec": {
   "display_name": "Python 3",
   "language": "python",
   "name": "python3"
  },
  "language_info": {
   "codemirror_mode": {
    "name": "ipython",
    "version": 3
   },
   "file_extension": ".py",
   "mimetype": "text/x-python",
   "name": "python",
   "nbconvert_exporter": "python",
   "pygments_lexer": "ipython3",
   "version": "3.6.4"
  }
 },
 "nbformat": 4,
 "nbformat_minor": 2
}
